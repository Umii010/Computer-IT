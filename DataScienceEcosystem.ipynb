{
 "cells": [
  {
   "cell_type": "markdown",
   "id": "dbcc46e3",
   "metadata": {},
   "source": [
    "# Data Science Tools and Ecosystem"
   ]
  },
  {
   "cell_type": "markdown",
   "id": "6404d34e",
   "metadata": {},
   "source": [
    "## In this notebook, Data Science Tools and Ecosystem are summarized."
   ]
  },
  {
   "cell_type": "markdown",
   "id": "6f428946",
   "metadata": {},
   "source": [
    "# Some of the commonly used libraries used by Data Scientists include:"
   ]
  },
  {
   "cell_type": "raw",
   "id": "cb7ffef3",
   "metadata": {},
   "source": [
    "1. Pandas\n",
    "2. Numpy\n",
    "3. Matplotlib "
   ]
  },
  {
   "cell_type": "markdown",
   "id": "4b36153c",
   "metadata": {},
   "source": [
    "# introducing arithmetic expression examples"
   ]
  },
  {
   "cell_type": "markdown",
   "id": "7b73a52f",
   "metadata": {},
   "source": [
    "### introducing arithmetic expression examples"
   ]
  },
  {
   "cell_type": "markdown",
   "id": "8087f340",
   "metadata": {},
   "source": [
    "# (3*4)+5."
   ]
  },
  {
   "cell_type": "code",
   "execution_count": 2,
   "id": "e4a13326",
   "metadata": {},
   "outputs": [
    {
     "name": "stdout",
     "output_type": "stream",
     "text": [
      "17\n"
     ]
    }
   ],
   "source": [
    "# taking two variables  for storing the vlaues  first\n",
    "x=3\n",
    "y=4\n",
    "c=x*y\n",
    "r=c+5\n",
    "print(r)\n",
    "\n"
   ]
  },
  {
   "cell_type": "markdown",
   "id": "82279ee0",
   "metadata": {},
   "source": [
    "# converts 200 minutes into hours"
   ]
  },
  {
   "cell_type": "code",
   "execution_count": 3,
   "id": "d9715d65",
   "metadata": {},
   "outputs": [
    {
     "name": "stdout",
     "output_type": "stream",
     "text": [
      "3.3333333333333335\n"
     ]
    }
   ],
   "source": [
    "# taking two variables again \n",
    "# i have taken 200 minuutes and saved in one variable then i know in one hour it is 60 mintutes  so i  just divided minutes by hours\n",
    "# to gain  my result\n",
    "x=200\n",
    "y=60\n",
    "\n",
    "print(x/y)"
   ]
  },
  {
   "cell_type": "markdown",
   "id": "cd7a91a3",
   "metadata": {},
   "source": [
    "#  **Objectives:"
   ]
  },
  {
   "cell_type": "markdown",
   "id": "3c909207",
   "metadata": {},
   "source": [
    "* R  language\n",
    "*  SQL\n",
    "* Python "
   ]
  },
  {
   "cell_type": "markdown",
   "id": "fa208700",
   "metadata": {},
   "source": [
    "##  Author\n",
    " M.UmerShahzad"
   ]
  }
 ],
 "metadata": {
  "kernelspec": {
   "display_name": "Python 3 (ipykernel)",
   "language": "python",
   "name": "python3"
  },
  "language_info": {
   "codemirror_mode": {
    "name": "ipython",
    "version": 3
   },
   "file_extension": ".py",
   "mimetype": "text/x-python",
   "name": "python",
   "nbconvert_exporter": "python",
   "pygments_lexer": "ipython3",
   "version": "3.10.9"
  }
 },
 "nbformat": 4,
 "nbformat_minor": 5
}
